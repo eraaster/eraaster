{
  "nbformat": 4,
  "nbformat_minor": 0,
  "metadata": {
    "colab": {
      "provenance": [],
      "mount_file_id": "1COeN2qFBWacrdb8J2DNlU59u-_S8u4Ir",
      "authorship_tag": "ABX9TyMzSbTp0t9Amy+B+1HuddiL",
      "include_colab_link": true
    },
    "kernelspec": {
      "name": "python3",
      "display_name": "Python 3"
    },
    "language_info": {
      "name": "python"
    }
  },
  "cells": [
    {
      "cell_type": "markdown",
      "metadata": {
        "id": "view-in-github",
        "colab_type": "text"
      },
      "source": [
        "<a href=\"https://colab.research.google.com/github/eraaster/eraaster/blob/main/project_cnn.ipynb\" target=\"_parent\"><img src=\"https://colab.research.google.com/assets/colab-badge.svg\" alt=\"Open In Colab\"/></a>"
      ]
    },
    {
      "cell_type": "code",
      "execution_count": 5,
      "metadata": {
        "colab": {
          "base_uri": "https://localhost:8080/"
        },
        "id": "6lL3dTBR5h5-",
        "outputId": "81b8d136-a564-4a9d-8ecc-03c52ababa1d"
      },
      "outputs": [
        {
          "output_type": "stream",
          "name": "stdout",
          "text": [
            "Found 14 images belonging to 2 classes.\n",
            "Found 0 images belonging to 0 classes.\n",
            "Epoch 1/10\n",
            "1/1 [==============================] - 2s 2s/step - loss: 0.6590 - accuracy: 0.8571\n",
            "Epoch 2/10\n",
            "1/1 [==============================] - 0s 373ms/step - loss: 0.4278 - accuracy: 0.8571\n",
            "Epoch 3/10\n",
            "1/1 [==============================] - 0s 403ms/step - loss: 0.4549 - accuracy: 0.8571\n",
            "Epoch 4/10\n",
            "1/1 [==============================] - 0s 405ms/step - loss: 0.3986 - accuracy: 0.8571\n",
            "Epoch 5/10\n",
            "1/1 [==============================] - 0s 402ms/step - loss: 0.4076 - accuracy: 0.8571\n",
            "Epoch 6/10\n",
            "1/1 [==============================] - 0s 393ms/step - loss: 0.3653 - accuracy: 0.8571\n",
            "Epoch 7/10\n",
            "1/1 [==============================] - 0s 394ms/step - loss: 0.3696 - accuracy: 0.8571\n",
            "Epoch 8/10\n",
            "1/1 [==============================] - 0s 381ms/step - loss: 0.3407 - accuracy: 0.8571\n",
            "Epoch 9/10\n",
            "1/1 [==============================] - 0s 265ms/step - loss: 0.3015 - accuracy: 0.8571\n",
            "Epoch 10/10\n",
            "1/1 [==============================] - 0s 274ms/step - loss: 0.2953 - accuracy: 0.8571\n"
          ]
        }
      ],
      "source": [
        "import tensorflow as tf\n",
        "from tensorflow.keras import layers, models\n",
        "from tensorflow.keras.preprocessing.image import ImageDataGenerator\n",
        "from tensorflow.keras.optimizers import Adam\n",
        "\n",
        "# 데이터 준비\n",
        "train_datagen = ImageDataGenerator(rescale=1./255, shear_range=0.2, zoom_range=0.2, horizontal_flip=True)\n",
        "test_datagen = ImageDataGenerator(rescale=1./255)\n",
        "\n",
        "train_generator = train_datagen.flow_from_directory('/content/drive/MyDrive/project_final', target_size=(64, 64), batch_size=32, class_mode='categorical')\n",
        "test_generator = test_datagen.flow_from_directory('/content/drive/MyDrive/project_final/test', target_size=(64, 64), batch_size=32, class_mode='categorical')\n",
        "\n",
        "# CNN 모델 정의\n",
        "model = models.Sequential()\n",
        "\n",
        "model.add(layers.Conv2D(32, (3, 3), activation='relu', input_shape=(64, 64, 3)))\n",
        "model.add(layers.MaxPooling2D((2, 2)))\n",
        "\n",
        "model.add(layers.Conv2D(64, (3, 3), activation='relu'))\n",
        "model.add(layers.MaxPooling2D((2, 2)))\n",
        "\n",
        "model.add(layers.Conv2D(128, (3, 3), activation='relu'))\n",
        "model.add(layers.MaxPooling2D((2, 2)))\n",
        "\n",
        "model.add(layers.Flatten())\n",
        "model.add(layers.Dense(128, activation='relu'))\n",
        "model.add(layers.Dense(2, activation='softmax'))  # 4개의 클래스에 대한 출력\n",
        "\n",
        "# 모델 컴파일\n",
        "model.compile(optimizer=Adam(learning_rate=0.001), loss='categorical_crossentropy', metrics=['accuracy'])\n",
        "\n",
        "# 모델 훈련\n",
        "model.fit(train_generator, epochs=10, validation_data=test_generator)\n",
        "\n",
        "# 모델 저장\n",
        "model.save('image_classifier.h5')\n"
      ]
    },
    {
      "cell_type": "code",
      "source": [
        "import tensorflow as tf\n",
        "from tensorflow.keras import layers, models\n",
        "from tensorflow.keras.preprocessing.image import ImageDataGenerator\n",
        "from tensorflow.keras.optimizers import Adam\n",
        "\n",
        "# 데이터 준비\n",
        "train_datagen = ImageDataGenerator(rescale=1./255, shear_range=0.2, zoom_range=0.2, horizontal_flip=True)\n",
        "test_datagen = ImageDataGenerator(rescale=1./255)\n",
        "\n",
        "train_generator = train_datagen.flow_from_directory('/content/drive/MyDrive/project_final', target_size=(64, 64), batch_size=32, class_mode='categorical')\n",
        "test_generator = test_datagen.flow_from_directory('/content/drive/MyDrive/project_final/test', target_size=(64, 64), batch_size=32, class_mode='categorical')\n",
        "\n",
        "# CNN 모델 정의\n",
        "model = models.Sequential()\n",
        "\n",
        "model.add(layers.Conv2D(32, (3, 3), activation='relu', input_shape=(64, 64, 3)))\n",
        "model.add(layers.MaxPooling2D((2, 2)))\n",
        "\n",
        "model.add(layers.Conv2D(64, (3, 3), activation='relu'))\n",
        "model.add(layers.MaxPooling2D((2, 2)))\n",
        "\n",
        "model.add(layers.Conv2D(128, (3, 3), activation='relu'))\n",
        "model.add(layers.MaxPooling2D((2, 2)))\n",
        "\n",
        "model.add(layers.Flatten())\n",
        "model.add(layers.Dense(128, activation='relu'))\n",
        "model.add(layers.Dense(2, activation='softmax'))  # 2개의 클래스에 대한 출력\n",
        "\n",
        "# 모델 컴파일\n",
        "model.compile(optimizer=Adam(learning_rate=0.001), loss='categorical_crossentropy', metrics=['accuracy'])\n",
        "\n",
        "# 모델 훈련\n",
        "model.fit(train_generator, epochs=10, validation_data=test_generator)\n",
        "\n",
        "# 모델 저장\n",
        "model.save('image_classifier.h5')\n",
        "\n",
        "# 모델 예측 및 출력\n",
        "predictions = model.predict(test_generator)\n",
        "predicted_classes = tf.argmax(predictions, axis=1)\n",
        "true_classes = test_generator.classes\n",
        "\n",
        "# 예측 클래스와 실제 클래스 비교\n",
        "accuracy = tf.reduce_mean(tf.cast(tf.equal(predicted_classes, true_classes), tf.float32))\n",
        "print(\"Test Accuracy:\", accuracy.numpy())\n",
        "\n",
        "# 예측된 클래스 출력\n",
        "class_indices = train_generator.class_indices\n",
        "class_names = list(class_indices.keys())\n",
        "predicted_class_names = [class_names[i] for i in predicted_classes]\n",
        "\n",
        "# 실제 클래스와 예측된 클래스 출력\n",
        "for true_class, predicted_class in zip(true_classes, predicted_class_names):\n",
        "    print(f\"True Class: {class_names[true_class]}, Predicted Class: {predicted_class}\")\n"
      ],
      "metadata": {
        "colab": {
          "base_uri": "https://localhost:8080/"
        },
        "id": "-fRbuTCoGmGo",
        "outputId": "1fc3e7e4-82e1-4cc0-b36f-ac79663ca71b"
      },
      "execution_count": 9,
      "outputs": [
        {
          "output_type": "stream",
          "name": "stdout",
          "text": [
            "Found 14 images belonging to 2 classes.\n",
            "Found 2 images belonging to 1 classes.\n",
            "Epoch 1/10\n",
            "1/1 [==============================] - 4s 4s/step - loss: 0.7049 - accuracy: 0.2857 - val_loss: 3.0841 - val_accuracy: 0.0000e+00\n",
            "Epoch 2/10\n",
            "1/1 [==============================] - 0s 337ms/step - loss: 0.4714 - accuracy: 0.8571 - val_loss: 2.7098 - val_accuracy: 0.0000e+00\n",
            "Epoch 3/10\n",
            "1/1 [==============================] - 0s 335ms/step - loss: 0.4487 - accuracy: 0.8571 - val_loss: 1.9830 - val_accuracy: 0.0000e+00\n",
            "Epoch 4/10\n",
            "1/1 [==============================] - 0s 332ms/step - loss: 0.4226 - accuracy: 0.8571 - val_loss: 1.7212 - val_accuracy: 0.0000e+00\n",
            "Epoch 5/10\n",
            "1/1 [==============================] - 0s 315ms/step - loss: 0.4248 - accuracy: 0.8571 - val_loss: 1.7855 - val_accuracy: 0.0000e+00\n",
            "Epoch 6/10\n",
            "1/1 [==============================] - 0s 373ms/step - loss: 0.4056 - accuracy: 0.8571 - val_loss: 2.0195 - val_accuracy: 0.0000e+00\n",
            "Epoch 7/10\n",
            "1/1 [==============================] - 0s 357ms/step - loss: 0.3856 - accuracy: 0.8571 - val_loss: 2.1724 - val_accuracy: 0.0000e+00\n",
            "Epoch 8/10\n",
            "1/1 [==============================] - 0s 354ms/step - loss: 0.4011 - accuracy: 0.8571 - val_loss: 1.9136 - val_accuracy: 0.0000e+00\n",
            "Epoch 9/10\n",
            "1/1 [==============================] - 0s 331ms/step - loss: 0.3753 - accuracy: 0.8571 - val_loss: 1.6147 - val_accuracy: 0.0000e+00\n",
            "Epoch 10/10\n",
            "1/1 [==============================] - 0s 353ms/step - loss: 0.3545 - accuracy: 0.8571 - val_loss: 1.5397 - val_accuracy: 0.0000e+00\n",
            "1/1 [==============================] - 0s 167ms/step\n",
            "Test Accuracy: 0.0\n",
            "True Class: test, Predicted Class: train\n",
            "True Class: test, Predicted Class: train\n"
          ]
        }
      ]
    },
    {
      "cell_type": "code",
      "source": [
        "import os\n",
        "\n",
        "# 테스트 데이터셋 경로\n",
        "test_data_path = '/content/drive/MyDrive/project_final/test'\n",
        "\n",
        "# 테스트 데이터셋 내 이미지 수 확인\n",
        "num_test_images = sum(len(files) for _, _, files in os.walk(test_data_path))\n",
        "print(f\"Number of images in the test dataset: {num_test_images}\")\n",
        "\n",
        "# 테스트 데이터셋 내 클래스 수 확인\n",
        "num_test_classes = len(os.listdir(test_data_path))\n",
        "print(f\"Number of classes in the test dataset: {num_test_classes}\")\n"
      ],
      "metadata": {
        "colab": {
          "base_uri": "https://localhost:8080/"
        },
        "id": "Q9FWaM0iE-Bg",
        "outputId": "941a98d4-e4ee-4381-d8f6-fc9eaf65ff70"
      },
      "execution_count": 8,
      "outputs": [
        {
          "output_type": "stream",
          "name": "stdout",
          "text": [
            "Number of images in the test dataset: 2\n",
            "Number of classes in the test dataset: 1\n"
          ]
        }
      ]
    },
    {
      "cell_type": "code",
      "source": [
        "from google.colab import drive\n",
        "drive.mount('/content/drive')"
      ],
      "metadata": {
        "id": "1zQBkhX36RKv"
      },
      "execution_count": null,
      "outputs": []
    },
    {
      "cell_type": "code",
      "source": [
        "import tensorflow as tf\n",
        "from tensorflow.keras import layers, models\n",
        "from tensorflow.keras.preprocessing.image import ImageDataGenerator\n",
        "from tensorflow.keras.optimizers import Adam\n",
        "from tensorflow.keras.utils import plot_model\n",
        "\n",
        "# 데이터 준비\n",
        "train_datagen = ImageDataGenerator(rescale=1./255, shear_range=0.2, zoom_range=0.2, horizontal_flip=True)\n",
        "test_datagen = ImageDataGenerator(rescale=1./255)\n",
        "\n",
        "train_generator = train_datagen.flow_from_directory('/content/drive/MyDrive/project_final', target_size=(64, 64), batch_size=32, class_mode='categorical')\n",
        "test_generator = test_datagen.flow_from_directory('/content/drive/MyDrive/project_final/test', target_size=(64, 64), batch_size=32, class_mode='categorical')\n",
        "\n",
        "# CNN 모델 정의\n",
        "model = models.Sequential()\n",
        "\n",
        "model.add(layers.Conv2D(32, (3, 3), activation='relu', input_shape=(64, 64, 3)))\n",
        "model.add(layers.MaxPooling2D((2, 2)))\n",
        "\n",
        "model.add(layers.Conv2D(64, (3, 3), activation='relu'))\n",
        "model.add(layers.MaxPooling2D((2, 2)))\n",
        "\n",
        "model.add(layers.Conv2D(128, (3, 3), activation='relu'))\n",
        "model.add(layers.MaxPooling2D((2, 2)))\n",
        "\n",
        "model.add(layers.Flatten())\n",
        "model.add(layers.Dense(128, activation='relu'))\n",
        "model.add(layers.Dense(2, activation='softmax'))  # 2개의 클래스에 대한 출력\n",
        "\n",
        "# 모델 컴파일\n",
        "model.compile(optimizer=Adam(learning_rate=0.001), loss='categorical_crossentropy', metrics=['accuracy'])\n",
        "\n",
        "# 모델 훈련\n",
        "model.fit(train_generator, epochs=10, validation_data=test_generator)\n",
        "\n",
        "# 모델 저장\n",
        "model.save('image_classifier.h5')\n",
        "\n",
        "# 모델 시각화\n",
        "plot_model(model, to_file='model_plot.png', show_shapes=True, show_layer_names=True)\n",
        "\n",
        "# 모델 예측 및 출력\n",
        "predictions = model.predict(test_generator)\n",
        "predicted_classes = tf.argmax(predictions, axis=1)\n",
        "true_classes = test_generator.classes\n",
        "\n",
        "# 예측 클래스와 실제 클래스 비교\n",
        "accuracy = tf.reduce_mean(tf.cast(tf.equal(predicted_classes, true_classes), tf.float32))\n",
        "print(\"Test Accuracy:\", accuracy.numpy())\n",
        "\n",
        "# 예측된 클래스 출력\n",
        "class_indices = train_generator.class_indices\n",
        "class_names = list(class_indices.keys())\n",
        "predicted_class_names = [class_names[i] for i in predicted_classes]\n",
        "\n",
        "# 실제 클래스와 예측된 클래스 출력\n",
        "for true_class, predicted_class in zip(true_classes, predicted_class_names):\n",
        "    print(f\"True Class: {class_names[true_class]}, Predicted Class: {predicted_class}\")\n"
      ],
      "metadata": {
        "colab": {
          "base_uri": "https://localhost:8080/"
        },
        "id": "yMLLuvPDHyek",
        "outputId": "d67efd19-b26a-4832-89ef-61f5ca9b2150"
      },
      "execution_count": 10,
      "outputs": [
        {
          "output_type": "stream",
          "name": "stdout",
          "text": [
            "Found 14 images belonging to 2 classes.\n",
            "Found 2 images belonging to 1 classes.\n",
            "Epoch 1/10\n",
            "1/1 [==============================] - 2s 2s/step - loss: 0.6422 - accuracy: 0.8571 - val_loss: 3.0584 - val_accuracy: 0.0000e+00\n",
            "Epoch 2/10\n",
            "1/1 [==============================] - 0s 324ms/step - loss: 0.4731 - accuracy: 0.8571 - val_loss: 2.5272 - val_accuracy: 0.0000e+00\n",
            "Epoch 3/10\n",
            "1/1 [==============================] - 0s 326ms/step - loss: 0.4409 - accuracy: 0.8571 - val_loss: 1.8908 - val_accuracy: 0.0000e+00\n",
            "Epoch 4/10\n",
            "1/1 [==============================] - 0s 309ms/step - loss: 0.4047 - accuracy: 0.8571 - val_loss: 1.6852 - val_accuracy: 0.0000e+00\n",
            "Epoch 5/10\n",
            "1/1 [==============================] - 0s 329ms/step - loss: 0.4159 - accuracy: 0.8571 - val_loss: 1.7898 - val_accuracy: 0.0000e+00\n",
            "Epoch 6/10\n",
            "1/1 [==============================] - 0s 312ms/step - loss: 0.3768 - accuracy: 0.8571 - val_loss: 2.1045 - val_accuracy: 0.0000e+00\n",
            "Epoch 7/10\n",
            "1/1 [==============================] - 0s 305ms/step - loss: 0.3670 - accuracy: 0.8571 - val_loss: 2.0870 - val_accuracy: 0.0000e+00\n",
            "Epoch 8/10\n",
            "1/1 [==============================] - 0s 317ms/step - loss: 0.3840 - accuracy: 0.8571 - val_loss: 1.7322 - val_accuracy: 0.0000e+00\n",
            "Epoch 9/10\n",
            "1/1 [==============================] - 0s 325ms/step - loss: 0.3235 - accuracy: 0.8571 - val_loss: 1.5177 - val_accuracy: 0.0000e+00\n",
            "Epoch 10/10\n",
            "1/1 [==============================] - 0s 312ms/step - loss: 0.3214 - accuracy: 0.8571 - val_loss: 1.4440 - val_accuracy: 0.0000e+00\n",
            "1/1 [==============================] - 0s 138ms/step\n",
            "Test Accuracy: 0.0\n",
            "True Class: test, Predicted Class: train\n",
            "True Class: test, Predicted Class: train\n"
          ]
        }
      ]
    }
  ]
}